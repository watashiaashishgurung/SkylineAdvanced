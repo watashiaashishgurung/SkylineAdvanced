{
 "cells": [
  {
   "cell_type": "markdown",
   "metadata": {},
   "source": [
    "```mermaid\n",
    "\n",
    "graph TD;\n",
    "    A(Start) --> B(Initialize Players);\n",
    "    B --> C(Set Default Amount);\n",
    "    C --> D(Start Round);\n",
    "    D --> E(Make Guesses);\n",
    "    E --> F(Determine Winner);\n",
    "    F --> G{One Winner?};\n",
    "    G -- No --> H(Update Stats and Pot);\n",
    "    H -- Repeat monthly untill final round --> D;\n",
    "    G -- Yes --> I(Final Round Winner);\n",
    "    I --> J(End Game);\n",
    "    J --> K(Compute Summary Stats);\n",
    "    K --> L(End);\n",
    "```"
   ]
  },
  {
   "cell_type": "markdown",
   "metadata": {},
   "source": [
    "# Guessing Game\n",
    "\n",
    "## Introduction\n",
    "This is a simple Python script for a guessing game. In this game, players make guesses for a default amount, and the player with the closest guess wins the pot for each round.\n",
    "\n",
    "## Code Explanation\n",
    "The script consists of two main classes: `Player` and `Game`.\n",
    "\n",
    "### Player Class\n",
    "The `Player` class represents each player in the game. It has the following attributes:\n",
    "- `name`: Player's name\n",
    "- `pot_contribution`: Amount contributed by the player to the pot (default is 1000)\n",
    "- `guess`: Player's guess for the default amount\n",
    "- `won_pot`: Flag to track if the player has won the pot in a round\n",
    "\n",
    "The `Player` class also has the following methods:\n",
    "- `make_guess()`: Generates a random guess for the default amount within the range [500, 1000]\n",
    "- `adjust_pot_contribution()`: Adjusts the pot contribution based on the previous round's pot contribution\n",
    "- `win_pot()`: Marks the player as the winner of the pot and sets their guess to the default amount\n",
    "\n",
    "### Game Class\n",
    "The `Game` class manages the overall game. It has the following attributes:\n",
    "- `players`: List of `Player` objects representing all players in the game\n",
    "- `default_amount`: Default amount for each round (default is 1000)\n",
    "- `rounds`: Number of rounds in the game (default is 10)\n",
    "\n",
    "The `Game` class also has the following methods:\n",
    "- `play_round()`: Simulates a single round of the game\n",
    "- `play_game()`: Simulates the entire game with multiple rounds\n",
    "\n",
    "### Simulation\n",
    "The script simulates the guessing game with 10 players and 10 rounds. In each round, players make guesses within the range [500, 1000]. The player with the closest guess to the default amount wins the pot for that round. After winning the pot, the player's guess is set to the default amount for the remainder of the game. The final round always has the default amount as the guess for each player.\n",
    "\n",
    "## Usage\n",
    "To run the script, simply execute it using a Python interpreter. Make sure you have Python installed on your system.\n"
   ]
  },
  {
   "cell_type": "markdown",
   "metadata": {},
   "source": [
    "# ChatGPT Is my algorytm benificial for the economy?\n",
    "\n",
    "The algorithm you provided is a simulation of a game rather than a direct economic model, so its impact on the real economy would be indirect and limited. However, gamification techniques like those used in the algorithm can have some positive effects on economic behavior and decision-making in certain contexts:\n",
    "\n",
    "Learning and Skill Development: Games can provide opportunities for players to develop critical thinking, decision-making, and strategic planning skills. This can indirectly benefit the economy by fostering a more skilled and adaptable workforce.\n",
    "\n",
    "Behavioral Economics Insights: By studying player behavior and decision-making within the game, researchers can gain insights into economic phenomena such as risk aversion, competitive behavior, and resource allocation. These insights can inform economic research and policymaking.\n",
    "\n",
    "Consumer Engagement and Marketing: Games can be used as a platform for engaging consumers, promoting products or services, and building brand loyalty. This can stimulate economic activity by encouraging consumer spending and brand interactions.\n",
    "\n",
    "Innovation and Creativity: Games often encourage innovation and creativity through problem-solving challenges and open-ended gameplay. This can drive economic growth by fostering entrepreneurship, new product development, and technological advancement.\n",
    "\n",
    "Social Interaction and Networking: Multiplayer games facilitate social interaction and networking among players, which can lead to the formation of communities, collaborations, and partnerships. These social connections can have economic benefits such as knowledge sharing, resource pooling, and collective action.\n",
    "\n",
    "Overall, while the algorithm itself may not directly impact the economy, the principles of gamification and behavioral economics it embodies can contribute to economic development, innovation, and social cohesion in various ways. However, the specific impact would depend on the context in which the algorithm is implemented and the goals it seeks to achieve."
   ]
  },
  {
   "cell_type": "markdown",
   "metadata": {},
   "source": []
  }
 ],
 "metadata": {
  "kernelspec": {
   "display_name": "base",
   "language": "python",
   "name": "python3"
  },
  "language_info": {
   "name": "python",
   "version": "3.11.9"
  }
 },
 "nbformat": 4,
 "nbformat_minor": 2
}
